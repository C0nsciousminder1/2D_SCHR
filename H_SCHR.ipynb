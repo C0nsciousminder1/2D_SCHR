{
 "cells": [
  {
   "cell_type": "code",
   "execution_count": 1,
   "metadata": {},
   "outputs": [],
   "source": [
    "# -*- coding: utf-8 -*-\n",
    "\"\"\"\n",
    "Created on Sep 9 \n",
    "@author: Darly Castro\n",
    "\"\"\"\n",
    "#Librerias\n",
    "import numpy as np\n",
    "from scipy.integrate import simps\n",
    "from scipy import interpolate \n",
    "from filon import cos_integral\n"
   ]
  },
  {
   "cell_type": "code",
   "execution_count": 4,
   "metadata": {},
   "outputs": [],
   "source": [
    "def Vpot(x,y,xd,yd,i,j):\n",
    "    Vpot = 0\n",
    "    Vpot = - 2.0/np.sqrt((x-xd)**2+ (y-yd)**2+0.01)\n",
    "    return Vpot\n"
   ]
  },
  {
   "cell_type": "code",
   "execution_count": 5,
   "metadata": {},
   "outputs": [],
   "source": [
    "def int_vpot(Lx,Ly,Nelectron): \n",
    "        \n",
    "    #----------- Donor position--------------   \n",
    "    XD_grid = array([0.5*Lx]) \n",
    "    YD_grid =array([0.5*Ly]) \n",
    "    Ndonor= len(XD_grid)\n",
    "    #---------# Electron position-------------\n",
    "    XE_grid = np.linspace(0, Lx, Nelectron)\n",
    "    YE_grid = np.linspace(0, Ly, Nelectron)\n",
    "    Re_x, Re_y = np.meshgrid(XE_grid,XE_grid)\n",
    "    #-------------------   # Potential#  --------------------------------\n",
    "    VS=np.zeros(shape=(Ndonor,Ndonor,Nelectron,Nelectron))\n",
    "    kindex=np.zeros(Nelectron)\n",
    "    mindex=np.zeros(Nelectron)\n",
    "    for i in range(0,  Ndonor):\n",
    "            for j  in range(0, Ndonor):\n",
    "                xd = XD_grid[i]\n",
    "                yd = YD_grid[j]\n",
    "                for k in range(0, Nelectron):\n",
    "                    for m in range(0, Nelectron):\n",
    "                        xe = XE_grid[k]\n",
    "                        ye = YE_grid[m]\n",
    "                        kindex[k] = (k*np.pi/Lx)\n",
    "                        mindex[k] = (m*np.pi/Ly)\n",
    "                        VS[i,j,k,m] = Vpot(xd,yd,xe,ye)\n",
    "    return VS,mindex,kindex,XE_grid,XD_grid,YE_grid,YD_grid,Ndonor\n"
   ]
  },
  {
   "cell_type": "code",
   "execution_count": null,
   "metadata": {},
   "outputs": [],
   "source": [
    "\n",
    "\n",
    "def coef(VS,kindex,sf,nf,Nelectron,Ndonor):\n",
    "    ds= sf/(Nelectron)\n",
    "    COEF=np.zeros((Ndonor,Nelectron))\n",
    "    for j in range(0,Ndonor):\n",
    "        for i in range(0,nf):\n",
    "            COEF[i,j,:]=(1/sf)*(cos_integral(VS[i,j,:],ds, kindex, x0=0.0, axis=0))\n",
    "    return COEF\n",
    "\n",
    "def schr(COEF,sf,nF,Nelectron,Ndonor):\n",
    "    nd=int(Nelectron/2)\n",
    "    AR=np.zeros(shape=(nd,nd)) # Empty Array \"2Dimencional\"\n",
    "    eigenvalues = np.zeros(shape=(nF,Ndonor,nd))\n",
    "    eigenvectors = np.zeros(shape=(nF,Ndonor,nd,nd))\n",
    "\n",
    "    for j in range(0,nF):\n",
    "        for s in range(0,Ndonor):\n",
    "            for k in range(0,nd):\n",
    "                for k1 in range(0,nd):\n",
    "                    ka=abs(k-k1)\n",
    "                    AR[k,k1]= 0.5*(COEF[j,s,ka] - COEF[j,s,k+k1])\n",
    "                    if (k == k1):\n",
    "                        AR[k,k1]=AR[k,k1]+(np.pi*k/sf)**2\n",
    "            eigenvalues[j,s] ,eigenvectors[j,s] = np.linalg.eigh(AR)\n",
    "    return eigenvalues,eigenvectors,nd\n",
    "\n",
    "#  w : (…, M) ndarray  #The eigenvalues in ascending order, each repeated according to its multiplicity.\n",
    "\n",
    "#  v : {(…, M, M) ndarray, (…, M, M) matrix}  #The column v[:, i] is the normalized eigenvector corresponding to the eigenvalue w[i]. Will return a matrix object if a is a matrix object\n",
    "\n",
    "\n",
    "\n",
    "#--------- Wave Function: -----------\n",
    "#VecR = Cn = Eigenvectors \n",
    "# 1 component : different electric fields  : nF: 20\n",
    "# 2 component : different donor positions  : Ndonor 10 \n",
    "# 3 component : nd  numbers of row egeinvectores  100\n",
    "# 4 component : nd numbers of colums egeinvectores 100\n",
    "\n",
    "\n",
    "\n"
   ]
  }
 ],
 "metadata": {
  "kernelspec": {
   "display_name": "Python 3",
   "language": "python",
   "name": "python3"
  },
  "language_info": {
   "codemirror_mode": {
    "name": "ipython",
    "version": 3
   },
   "file_extension": ".py",
   "mimetype": "text/x-python",
   "name": "python",
   "nbconvert_exporter": "python",
   "pygments_lexer": "ipython3",
   "version": "3.7.3"
  }
 },
 "nbformat": 4,
 "nbformat_minor": 4
}
